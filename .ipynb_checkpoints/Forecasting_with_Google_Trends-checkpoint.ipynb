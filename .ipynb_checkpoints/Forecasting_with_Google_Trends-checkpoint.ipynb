{
 "cells": [
  {
   "cell_type": "markdown",
   "metadata": {},
   "source": [
    "# Forecasting with Google Trends data"
   ]
  },
  {
   "cell_type": "markdown",
   "metadata": {},
   "source": [
    "This notebook is an attempt to scrape some search volume data using Google Trends, and to discover some relationships between those trends and the stock market. Finally, we are going to try and predict some stock market trends. \n",
    "\n",
    "# What is Google Trends?\n",
    "\n",
    "From the Google News Lab [blog post](https://medium.com/google-news-lab/what-is-google-trends-data-and-what-does-it-mean-b48f07342ee8#.9puo6eixa), , \n",
    "\n",
    ">\"Trends data is an unbiased sample of our Google search data. It’s anonymized (no one is personally identified), categorized (determining the topic for a search query) and aggregated (grouped together). This allows us to measure interest in a particular topic across search, from around the globe, right down to city-level geography.\"\n",
    "\n",
    "\n",
    "Google Trends uses a search volume index to quantify interest in a particular search topic/keyword. According to Google News lab, the index is defined as\n",
    "\n",
    "$$\\text{search interest} = \\frac{\\text{# of queries for keyword}}{  \\text{total Google search queries}}$$\n",
    "\n",
    "Quoting from their [blog post](https://medium.com/google-news-lab/what-is-google-trends-data-and-what-does-it-mean-b48f07342ee8#.9puo6eixa),\n",
    "\n",
    ">\"What’s most useful for storytelling is our normalized Trends data. This means that when we look at search interest over time for a topic, we’re looking at that interest as a proportion of all searches on all topics on Google at that time and location. When we look at regional search interest for a topic, we’re looking at the search interest for that topic in a given region as a proportion of all searches on all topics on Google in that same place and time.\"\n",
    "\n",
    "Thus, what we should retain is that this index is normalized over total number of searches, not over locations (it keeps location information). This is useful, it accounts for the change in number of people who use Google (which has obviously increased since the launch of Google Trends in 2015), giving us good picture of how the public's interest in a topic. Some have [argued](https://www.quora.com/How-do-you-interpret-Google-Trendss-search-volume-index) over the interpretability of this index, but other sources claim its successful use in predicting investor attention etc. (references required).\n",
    "\n",
    "# Let's get started!\n",
    "\n",
    "To scrape time-series data off Google Trends, we can either navigate to the [Google Trends](http://www.google.com/trends) website, type in a search term and click on the \"download .csv file\", but the problem with that is twofold:\n",
    "\n",
    "1) It's tedious! (I am not a fan of mice, they can't be tamed easily).\n",
    "\n",
    "2) It's even more tedious if we want high-resolution data over a long time period, which would means we would have to click a quadrillion times successively.\n",
    "\n",
    "So we have to find an alternative to clicking around like a maniac.\n",
    "\n",
    "# The PyTrends package\n",
    "\n",
    "Luckily, there exists this wonderful package called [PyTrends](https://github.com/GeneralMills/pytrends), which provides an API for downloading Google Trends data with Python. I wrote a function that can be used to scrape at high resolution and for possibly long periods of time, by retrieving data in segments. Let's import it and use it.\n"
   ]
  },
  {
   "cell_type": "code",
   "execution_count": 1,
   "metadata": {
    "collapsed": false
   },
   "outputs": [],
   "source": [
    "import google_trends\n",
    "\n",
    "get_google_trends_timeseries('***@gmail.com', '***', '1Jan2015','12Jan2016', 1, ['game of thrones', 'medieval'], 'US', \"/home/orphefs/Downloads/\")"
   ]
  },
  {
   "cell_type": "markdown",
   "metadata": {},
   "source": [
    "Now we have a .csv file in our path, which we can import back into a variable using the following commands:"
   ]
  },
  {
   "cell_type": "code",
   "execution_count": 8,
   "metadata": {
    "collapsed": false
   },
   "outputs": [
    {
     "data": {
      "text/html": [
       "<div>\n",
       "<table border=\"1\" class=\"dataframe\">\n",
       "  <thead>\n",
       "    <tr style=\"text-align: right;\">\n",
       "      <th></th>\n",
       "      <th>game of thrones</th>\n",
       "      <th>medieval</th>\n",
       "    </tr>\n",
       "  </thead>\n",
       "  <tbody>\n",
       "    <tr>\n",
       "      <th>count</th>\n",
       "      <td>54.000000</td>\n",
       "      <td>54.000000</td>\n",
       "    </tr>\n",
       "    <tr>\n",
       "      <th>mean</th>\n",
       "      <td>24.574074</td>\n",
       "      <td>5.462963</td>\n",
       "    </tr>\n",
       "    <tr>\n",
       "      <th>std</th>\n",
       "      <td>18.994142</td>\n",
       "      <td>0.605415</td>\n",
       "    </tr>\n",
       "    <tr>\n",
       "      <th>min</th>\n",
       "      <td>10.000000</td>\n",
       "      <td>4.000000</td>\n",
       "    </tr>\n",
       "    <tr>\n",
       "      <th>25%</th>\n",
       "      <td>13.000000</td>\n",
       "      <td>5.000000</td>\n",
       "    </tr>\n",
       "    <tr>\n",
       "      <th>50%</th>\n",
       "      <td>17.000000</td>\n",
       "      <td>6.000000</td>\n",
       "    </tr>\n",
       "    <tr>\n",
       "      <th>75%</th>\n",
       "      <td>24.750000</td>\n",
       "      <td>6.000000</td>\n",
       "    </tr>\n",
       "    <tr>\n",
       "      <th>max</th>\n",
       "      <td>100.000000</td>\n",
       "      <td>6.000000</td>\n",
       "    </tr>\n",
       "  </tbody>\n",
       "</table>\n",
       "</div>"
      ],
      "text/plain": [
       "       game of thrones   medieval\n",
       "count        54.000000  54.000000\n",
       "mean         24.574074   5.462963\n",
       "std          18.994142   0.605415\n",
       "min          10.000000   4.000000\n",
       "25%          13.000000   5.000000\n",
       "50%          17.000000   6.000000\n",
       "75%          24.750000   6.000000\n",
       "max         100.000000   6.000000"
      ]
     },
     "execution_count": 8,
     "metadata": {},
     "output_type": "execute_result"
    }
   ],
   "source": [
    "import pandas as pd\n",
    "\n",
    "df = pd.read_csv('/home/orphefs/Downloads/' + 'game_of_thrones.csv')\n",
    "df['date'] = pd.to_datetime(df['date']) # convert date strings back to datetime format\n",
    "df.index = df['date'] # index by date\n",
    "df.describe()"
   ]
  },
  {
   "cell_type": "markdown",
   "metadata": {},
   "source": [
    "Now we can group the result by month:"
   ]
  },
  {
   "cell_type": "code",
   "execution_count": 31,
   "metadata": {
    "collapsed": false
   },
   "outputs": [],
   "source": [
    "grouped_df = pd.groupby(df,by=[df.index.month,df.index.year])"
   ]
  },
  {
   "cell_type": "code",
   "execution_count": 30,
   "metadata": {
    "collapsed": false
   },
   "outputs": [
    {
     "data": {
      "text/plain": [
       "<matplotlib.collections.PolyCollection at 0x7f40facaabe0>"
      ]
     },
     "execution_count": 30,
     "metadata": {},
     "output_type": "execute_result"
    },
    {
     "data": {
      "image/png": "[encoded data removed]",
      "text/plain": [
       "<matplotlib.figure.Figure at 0x7f40f9400828>"
      ]
     },
     "metadata": {},
     "output_type": "display_data"
    }
   ],
   "source": [
    "%matplotlib inline\n",
    "\n",
    "myplt = grouped_df[\"game of thrones\"].mean().plot()\n",
    "#d = df['month,year'].values\n",
    "\n",
    "lower_bnd, upper_bnd = grouped_df[\"game of thrones\"].mean()-grouped_df[\"game of thrones\"].std(), grouped_df[\"game of thrones\"].mean()+grouped_df[\"game of thrones\"].std()\n",
    "myplt.fill_between([i for i in range(len(grouped_df[\"game of thrones\"]))], lower_bnd, upper_bnd, alpha=0.2, color='k')\n",
    "# from IPython.core.debugger import Tracer; Tracer()()\n",
    "\n"
   ]
  }
 ],
 "metadata": {
  "anaconda-cloud": {},
  "kernelspec": {
   "display_name": "Python [conda root]",
   "language": "python",
   "name": "conda-root-py"
  },
  "language_info": {
   "codemirror_mode": {
    "name": "ipython",
    "version": 3
   },
   "file_extension": ".py",
   "mimetype": "text/x-python",
   "name": "python",
   "nbconvert_exporter": "python",
   "pygments_lexer": "ipython3",
   "version": "3.5.2"
  }
 },
 "nbformat": 4,
 "nbformat_minor": 1
}
